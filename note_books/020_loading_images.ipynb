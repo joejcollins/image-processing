{
 "cells": [
  {
   "cell_type": "markdown",
   "id": "08e9220a",
   "metadata": {},
   "source": [
    "# Image Basics\n",
    "\n",
    "Images are extracted in to `numpy` multidimensional arrays\n",
    "(=the `ndarray` object AKA the n-dimensional array).\n",
    "This will definitely comes in handy\n",
    "and avoids the need to mess about directly with the images and their formats.\n",
    "Renaming the imports is common for popular libraries,\n",
    "So you will typically see `numpy` being renamed to `np`\n",
    "and `imageio.v3` renamed as `iio`.\n",
    "\n",
    "## Loading Images\n",
    "\n",
    "\"Scikit-image\" has it's own way to load an image (`skimage.io.imread()`).\n",
    "But underneath it uses `iio.imread()`,\n",
    "we prefer this because it is more flexible and allows us to access\n",
    "the meta data in the in the image."
   ]
  },
  {
   "cell_type": "code",
   "execution_count": 3,
   "id": "e12725d1",
   "metadata": {},
   "outputs": [
    {
     "name": "stdout",
     "output_type": "stream",
     "text": [
      "(5, 3)\n",
      "[[0. 0. 0.]\n",
      " [0. 1. 0.]\n",
      " [0. 0. 0.]\n",
      " [0. 1. 0.]\n",
      " [0. 0. 0.]]\n",
      "CPU times: user 1.5 ms, sys: 1.22 ms, total: 2.72 ms\n",
      "Wall time: 1.88 ms\n"
     ]
    }
   ],
   "source": [
    "%%time\n",
    "%matplotlib widget\n",
    "\n",
    "import imageio.v3 as iio\n",
    "import numpy as np\n",
    "from aqua_marina import file_finder_service\n",
    "\n",
    "eight_path = file_finder_service.find_training_image('eight.tif')\n",
    "\n",
    "eight = iio.imread(uri=eight_path)\n",
    "assert isinstance(eight, np.ndarray)  # ndarray is an n-dimensional array object\n",
    "\n",
    "print(eight.shape)\n",
    "print(eight)"
   ]
  },
  {
   "cell_type": "markdown",
   "id": "dbbbef8e",
   "metadata": {},
   "source": [
    "The `ndarray` is an n-dimensional array object\n",
    "\n",
    "See that the coordinates are height then width.\n",
    "left-hand coordinate system.\n",
    "Also the image is just ones and zeros.\n",
    "\n",
    "Display the image with `pyplot`.  Why are t\n",
    "\n",
    "The subplots thing allows you to have multiple figures,\n",
    "if you don't have multiple figures then it will default to one.\n",
    "\n",
    "Image is 3 by 5 \n",
    "\n",
    "We can see two colours.\n",
    "This is a black and white image, but an artificial colour map has been\n",
    "applied for ease o f \n",
    "\n",
    "Images use a different coordinate system\n",
    "0,0 is in the top left.\n",
    "\n",
    "The shape"
   ]
  },
  {
   "cell_type": "code",
   "execution_count": 4,
   "id": "973ed68c",
   "metadata": {},
   "outputs": [
    {
     "data": {
      "text/plain": [
       "<matplotlib.image.AxesImage at 0x11a27d790>"
      ]
     },
     "execution_count": 4,
     "metadata": {},
     "output_type": "execute_result"
    },
    {
     "data": {
      "application/vnd.jupyter.widget-view+json": {
       "model_id": "905801d9fb7343b0818de231753c583c",
       "version_major": 2,
       "version_minor": 0
      },
      "image/png": "[encoded data removed]",
      "text/html": [
       "\n",
       "            <div style=\"display: inline-block;\">\n",
       "                <div class=\"jupyter-widgets widget-label\" style=\"text-align: center;\">\n",
       "                    Figure\n",
       "                </div>\n",
       "                <img src='data:image/png;base64,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' width=300.0/>\n",
       "            </div>\n",
       "        "
      ],
      "text/plain": [
       "Canvas(toolbar=Toolbar(toolitems=[('Home', 'Reset original view', 'home', 'home'), ('Back', 'Back to previous …"
      ]
     },
     "metadata": {},
     "output_type": "display_data"
    }
   ],
   "source": [
    "from matplotlib import pyplot\n",
    "\n",
    "the_figure, the_axes = pyplot.subplots(figsize=(3,3))\n",
    "the_axes.imshow(eight)"
   ]
  },
  {
   "cell_type": "markdown",
   "id": "e06a9acd",
   "metadata": {},
   "source": [
    "## Working with Pixels\n",
    "\n",
    "Let's look at the pixels in the image.\n",
    "Edit the image.\n",
    "Then show it with the other one.\n",
    "\n",
    "The pixels are addressed, Y first then X.\n",
    "This is the \"RYCX\",\n",
    "Rows are Y, and Columns are X.\n",
    "\n",
    "Rycx is a prominent Belgian economist.\n",
    "<https://francois.rycx.web.ulb.be/>."
   ]
  },
  {
   "cell_type": "code",
   "execution_count": 5,
   "id": "9da860ce-741d-4c94-b6b3-ae5d1bf03f31",
   "metadata": {},
   "outputs": [
    {
     "data": {
      "text/plain": [
       "(-0.5, 2.5, 4.5, -0.5)"
      ]
     },
     "execution_count": 5,
     "metadata": {},
     "output_type": "execute_result"
    },
    {
     "data": {
      "application/vnd.jupyter.widget-view+json": {
       "model_id": "f3aa79d084b340f9808686c862a679d5",
       "version_major": 2,
       "version_minor": 0
      },
      "image/png": "[encoded data removed]",
      "text/html": [
       "\n",
       "            <div style=\"display: inline-block;\">\n",
       "                <div class=\"jupyter-widgets widget-label\" style=\"text-align: center;\">\n",
       "                    Figure\n",
       "                </div>\n",
       "                <img src='data:image/png;base64,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' width=600.0/>\n",
       "            </div>\n",
       "        "
      ],
      "text/plain": [
       "Canvas(toolbar=Toolbar(toolitems=[('Home', 'Reset original view', 'home', 'home'), ('Back', 'Back to previous …"
      ]
     },
     "metadata": {},
     "output_type": "display_data"
    }
   ],
   "source": [
    "import copy\n",
    "\n",
    "other_figure, other_axes = pyplot.subplot_mosaic([\n",
    "    ['left', 'right']\n",
    "], figsize=(6, 3))\n",
    "\n",
    "zero = copy.deepcopy(eight)\n",
    "zero[2,1] = 1.0\n",
    "other_axes['left'].imshow(zero)\n",
    "other_axes['left'].axis('off')  # Hide the axes\n",
    "\n",
    "letter_u = copy.deepcopy(eight)\n",
    "letter_u[0:4, 1] = 2.0\n",
    "other_axes['right'].imshow(letter_u)\n",
    "other_axes['right'].axis('off')  # Hide the axes"
   ]
  },
  {
   "cell_type": "markdown",
   "id": "e1642a55",
   "metadata": {},
   "source": [
    "## More Colours\n",
    "\n",
    "Previously we were using 0 to 1, but typically 256 are used to express intensity.\n",
    "\n",
    "0 is black  255 is white\n",
    "or if RGB\n",
    "0 is not there but 255 is all the colour\n",
    "\n",
    "Note the use of matrix arithmetic so if the matrix is multiplied by a number,\n",
    "then every cell is multiplied by that number."
   ]
  },
  {
   "cell_type": "code",
   "execution_count": 6,
   "id": "7fa36877",
   "metadata": {},
   "outputs": [
    {
     "name": "stdout",
     "output_type": "stream",
     "text": [
      "[[  0.   0.   0.]\n",
      " [  0. 128.   0.]\n",
      " [255. 255. 255.]\n",
      " [  0. 128.   0.]\n",
      " [  0.   0.   0.]]\n"
     ]
    }
   ],
   "source": [
    "three_colour_eight = copy.deepcopy(eight)\n",
    "three_colour_eight = three_colour_eight * 128\n",
    "three_colour_eight[2, :] = 255\n",
    "print(three_colour_eight)"
   ]
  },
  {
   "cell_type": "code",
   "execution_count": 7,
   "id": "f3936a6f",
   "metadata": {},
   "outputs": [
    {
     "data": {
      "text/plain": [
       "<matplotlib.image.AxesImage at 0x12a07db10>"
      ]
     },
     "execution_count": 7,
     "metadata": {},
     "output_type": "execute_result"
    },
    {
     "data": {
      "application/vnd.jupyter.widget-view+json": {
       "model_id": "37598bfbbf9a40208ecb8611fa8c2006",
       "version_major": 2,
       "version_minor": 0
      },
      "image/png": "[encoded data removed]",
      "text/html": [
       "\n",
       "            <div style=\"display: inline-block;\">\n",
       "                <div class=\"jupyter-widgets widget-label\" style=\"text-align: center;\">\n",
       "                    Figure\n",
       "                </div>\n",
       "                <img src='data:image/png;base64,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' width=300.0/>\n",
       "            </div>\n",
       "        "
      ],
      "text/plain": [
       "Canvas(toolbar=Toolbar(toolitems=[('Home', 'Reset original view', 'home', 'home'), ('Back', 'Back to previous …"
      ]
     },
     "metadata": {},
     "output_type": "display_data"
    }
   ],
   "source": [
    "yet_another_figure, yet_another_axes = pyplot.subplots(figsize=(3,3))\n",
    "yet_another_axes.imshow(three_colour_eight, cmap=pyplot.cm.gray)"
   ]
  },
  {
   "cell_type": "markdown",
   "id": "d981c906",
   "metadata": {},
   "source": [
    "## Even More Colours\n",
    "\n",
    "Images can be generated.\n",
    "The pseudo randomizer which is deterministic\n",
    "so we get the same sequence of numbers.\n",
    "\n",
    "randint will sample the range 0 to 255 in this case"
   ]
  },
  {
   "cell_type": "code",
   "execution_count": 8,
   "id": "f6e135a2",
   "metadata": {},
   "outputs": [
    {
     "name": "stdout",
     "output_type": "stream",
     "text": [
      "[[[116  85  57]\n",
      "  [128 109  94]\n",
      "  [214  44  62]\n",
      "  [219 157  21]]\n",
      "\n",
      " [[ 93 152 140]\n",
      "  [246 198 102]\n",
      "  [ 70  33 101]\n",
      "  [  7   1 110]]\n",
      "\n",
      " [[225 124 229]\n",
      "  [154 194 176]\n",
      "  [227  63  49]\n",
      "  [144 178  54]]\n",
      "\n",
      " [[123 180  93]\n",
      "  [120   5  49]\n",
      "  [166 234 142]\n",
      "  [ 71  85  70]]]\n"
     ]
    },
    {
     "data": {
      "text/plain": [
       "<matplotlib.image.AxesImage at 0x12a235b10>"
      ]
     },
     "execution_count": 8,
     "metadata": {},
     "output_type": "execute_result"
    },
    {
     "data": {
      "application/vnd.jupyter.widget-view+json": {
       "model_id": "745d0f84b6ed44eca4385e3268e87a5b",
       "version_major": 2,
       "version_minor": 0
      },
      "image/png": "[encoded data removed]",
      "text/html": [
       "\n",
       "            <div style=\"display: inline-block;\">\n",
       "                <div class=\"jupyter-widgets widget-label\" style=\"text-align: center;\">\n",
       "                    Figure\n",
       "                </div>\n",
       "                <img src='data:image/png;base64,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' width=300.0/>\n",
       "            </div>\n",
       "        "
      ],
      "text/plain": [
       "Canvas(toolbar=Toolbar(toolitems=[('Home', 'Reset original view', 'home', 'home'), ('Back', 'Back to previous …"
      ]
     },
     "metadata": {},
     "output_type": "display_data"
    }
   ],
   "source": [
    "import numpy as np\n",
    "\n",
    "pseudo_random = np.random.RandomState(seed=2021)\n",
    "checker_board = pseudo_random.randint(0, 255, size=(4,4,3))\n",
    "print(checker_board)\n",
    "\n",
    "the_figure, the_axes = pyplot.subplots(figsize=(3,3))\n",
    "the_axes.imshow(checker_board)\n"
   ]
  },
  {
   "cell_type": "code",
   "execution_count": 9,
   "id": "898b9cb7",
   "metadata": {},
   "outputs": [
    {
     "name": "stdout",
     "output_type": "stream",
     "text": [
      "Red: 7, Green: 1, Blue: 110\n"
     ]
    }
   ],
   "source": [
    "upper_right_square = checker_board[1,3,:]\n",
    "red = upper_right_square[0]\n",
    "green = upper_right_square[1]\n",
    "blue = upper_right_square[2]\n",
    "\n",
    "print(f\"Red: {red}, Green: {green}, Blue: {blue}\")\n",
    "\n"
   ]
  },
  {
   "cell_type": "markdown",
   "id": "d5e6e5fb",
   "metadata": {},
   "source": [
    "Because the three colour channels are held in an array we can do matrix arithmetic on them to extract colours.\n",
    "This is going to be handy for extracting the colours of leaves etc...\n",
    "This is 24-bit RGB colour."
   ]
  },
  {
   "cell_type": "code",
   "execution_count": 12,
   "id": "b5b94cc8",
   "metadata": {},
   "outputs": [
    {
     "data": {
      "text/plain": [
       "<matplotlib.image.AxesImage at 0x12a3a5790>"
      ]
     },
     "execution_count": 12,
     "metadata": {},
     "output_type": "execute_result"
    },
    {
     "data": {
      "application/vnd.jupyter.widget-view+json": {
       "model_id": "2dc93be8d36e4723a1f6042eab0794c7",
       "version_major": 2,
       "version_minor": 0
      },
      "image/png": "[encoded data removed]",
      "text/html": [
       "\n",
       "            <div style=\"display: inline-block;\">\n",
       "                <div class=\"jupyter-widgets widget-label\" style=\"text-align: center;\">\n",
       "                    Figure\n",
       "                </div>\n",
       "                <img src='data:image/png;base64,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' width=300.0/>\n",
       "            </div>\n",
       "        "
      ],
      "text/plain": [
       "Canvas(toolbar=Toolbar(toolitems=[('Home', 'Reset original view', 'home', 'home'), ('Back', 'Back to previous …"
      ]
     },
     "metadata": {},
     "output_type": "display_data"
    }
   ],
   "source": [
    "red_filter = np.array([1, 0, 0])  # Red only, RGB\n",
    "red_channel_only = checker_board * red_filter\n",
    "the_figure, the_axes = pyplot.subplots(figsize=(3,3))\n",
    "the_axes.imshow(red_channel_only)"
   ]
  },
  {
   "cell_type": "code",
   "execution_count": 13,
   "id": "0401b7d9",
   "metadata": {},
   "outputs": [
    {
     "data": {
      "text/plain": [
       "<matplotlib.image.AxesImage at 0x12a425790>"
      ]
     },
     "execution_count": 13,
     "metadata": {},
     "output_type": "execute_result"
    },
    {
     "data": {
      "application/vnd.jupyter.widget-view+json": {
       "model_id": "0d2ef4f361464920ada5a14d499d4ff3",
       "version_major": 2,
       "version_minor": 0
      },
      "image/png": "[encoded data removed]",
      "text/html": [
       "\n",
       "            <div style=\"display: inline-block;\">\n",
       "                <div class=\"jupyter-widgets widget-label\" style=\"text-align: center;\">\n",
       "                    Figure\n",
       "                </div>\n",
       "                <img src='data:image/png;base64,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' width=300.0/>\n",
       "            </div>\n",
       "        "
      ],
      "text/plain": [
       "Canvas(toolbar=Toolbar(toolitems=[('Home', 'Reset original view', 'home', 'home'), ('Back', 'Back to previous …"
      ]
     },
     "metadata": {},
     "output_type": "display_data"
    }
   ],
   "source": [
    "green_filter = np.array([0, 1, 0])  # Green only, RGB\n",
    "green_channel_only = checker_board * green_filter\n",
    "the_figure, the_axes = pyplot.subplots(figsize=(3,3))\n",
    "the_axes.imshow(green_channel_only)"
   ]
  }
 ],
 "metadata": {
  "kernelspec": {
   "display_name": "Python 3 (ipykernel)",
   "language": "python",
   "name": "python3"
  },
  "language_info": {
   "codemirror_mode": {
    "name": "ipython",
    "version": 3
   },
   "file_extension": ".py",
   "mimetype": "text/x-python",
   "name": "python",
   "nbconvert_exporter": "python",
   "pygments_lexer": "ipython3",
   "version": "3.11.9"
  }
 },
 "nbformat": 4,
 "nbformat_minor": 5
}
