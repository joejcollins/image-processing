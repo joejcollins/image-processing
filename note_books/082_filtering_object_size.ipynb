{
 "cells": [
  {
   "cell_type": "markdown",
   "metadata": {},
   "source": [
    "# Morphometrics\n",
    "\n",
    "Smaller than a minimum area."
   ]
  },
  {
   "cell_type": "code",
   "execution_count": 1,
   "metadata": {},
   "outputs": [],
   "source": [
    "import imageio.v3 as iio\n",
    "import ipympl\n",
    "import matplotlib.pyplot as plt\n",
    "import numpy as np\n",
    "import skimage as ski\n",
    "\n",
    "%matplotlib widget\n",
    "\n",
    "def connected_components(filename, sigma=1.0, t=0.5, connectivity=2):\n",
    "    # load the image\n",
    "    image = iio.imread(filename)\n",
    "    # convert the image to grayscale\n",
    "    gray_image = ski.color.rgb2gray(image)\n",
    "    # denoise the image with a Gaussian filter\n",
    "    blurred_image = ski.filters.gaussian(gray_image, sigma=sigma)\n",
    "    # mask the image according to threshold\n",
    "    binary_mask = blurred_image < t\n",
    "    # perform connected component analysis\n",
    "    labeled_image, count = ski.measure.label(binary_mask, connectivity=connectivity, return_num=True)\n",
    "    # Use a list comprehension to remove items from the labeled image that have an area less than the threshold\n",
    "    object_features = ski.measure.regionprops(labeled_image)\n",
    "    object_areas = [objf[\"area\"] for objf in object_features if objf[\"area\"] > 150\n",
    "\n",
    "    \n",
    "    return labeled_image, count\n",
    "\n",
    "labeled_image, count = connected_components(filename=\"../data/raw/training/shapes-01.jpg\", sigma=2.0, t=0.9)"
   ]
  },
  {
   "cell_type": "code",
   "execution_count": null,
   "metadata": {},
   "outputs": [
    {
     "data": {
      "text/plain": [
       "[318539.0,\n",
       " 1.0,\n",
       " 523207.0,\n",
       " 496622.0,\n",
       " 517330.0,\n",
       " 143.0,\n",
       " 256215.0,\n",
       " 1.0,\n",
       " 69.0,\n",
       " 338787.0,\n",
       " 265767.0]"
      ]
     },
     "execution_count": 26,
     "metadata": {},
     "output_type": "execute_result"
    }
   ],
   "source": [
    "object_features = ski.measure.regionprops(labeled_image)\n",
    "object_areas = [objf[\"area\"] for objf in object_features]\n",
    "object_areas"
   ]
  },
  {
   "cell_type": "markdown",
   "metadata": {},
   "source": [
    "Using the numpy library is faster than if and for loops."
   ]
  },
  {
   "cell_type": "code",
   "execution_count": null,
   "metadata": {},
   "outputs": [
    {
     "name": "stdout",
     "output_type": "stream",
     "text": [
      "Number of objects: 7\n",
      "[318539. 523207. 496622. 517330. 256215. 338787. 265767.]\n",
      "[ 1  3  4  5  7 10 11]\n"
     ]
    }
   ],
   "source": [
    "# remove the object from object_areas which are less\n",
    "# than a certain threshold\n",
    "threshold = 150\n",
    "object_areas = [area for area in object_areas if area >= threshold]\n",
    "# counq the number of objects\n",
    "num_objects = len(object_areas)\n",
    "PendingDeprecationWarning\n",
    "print(f\"Number of objects: {num_objects}\")\n",
    "\n",
    "input_array = np.array(object_areas)\n",
    "output_array = input_array[input_array > threshold]\n",
    "print(output_array)\n",
    "\n",
    "object_areas = np.array([objf[\"area\"] for objf in object_features])\n",
    "object_labels = np.array([objf[\"label\"] for objf in object_features])\n",
    "large_objects = object_labels[object_areas > threshold]\n",
    "print(large_objects)"
   ]
  }
 ],
 "metadata": {
  "kernelspec": {
   "display_name": "image-processing",
   "language": "python",
   "name": "python3"
  },
  "language_info": {
   "codemirror_mode": {
    "name": "ipython",
    "version": 3
   },
   "file_extension": ".py",
   "mimetype": "text/x-python",
   "name": "python",
   "nbconvert_exporter": "python",
   "pygments_lexer": "ipython3",
   "version": "3.11.9"
  }
 },
 "nbformat": 4,
 "nbformat_minor": 2
}
