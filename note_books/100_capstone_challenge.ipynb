{
 "cells": [
  {
   "cell_type": "markdown",
   "metadata": {},
   "source": [
    "# "
   ]
  },
  {
   "cell_type": "code",
   "execution_count": 8,
   "metadata": {},
   "outputs": [],
   "source": [
    "import glob\n",
    "\n",
    "import image_processing.file_finder_service\n",
    "import os.path\n",
    "\n",
    "file_finder = image_processing.file_finder_service.FileFinderService()\n",
    "root_path = file_finder.find_root()\n",
    "\n",
    "search_path = os.path.join(root_path, \"**/botany/*.jpg\")\n",
    "\n",
    "# find all files in the current directory with a .txt extension\n",
    "for file in glob.glob(\"botany/**/*.jpg\", root_dir=root_path, recursive=True):\n",
    "    print(file)\n"
   ]
  }
 ],
 "metadata": {
  "kernelspec": {
   "display_name": "image-processing",
   "language": "python",
   "name": "python3"
  },
  "language_info": {
   "codemirror_mode": {
    "name": "ipython",
    "version": 3
   },
   "file_extension": ".py",
   "mimetype": "text/x-python",
   "name": "python",
   "nbconvert_exporter": "python",
   "pygments_lexer": "ipython3",
   "version": "3.11.9"
  }
 },
 "nbformat": 4,
 "nbformat_minor": 2
}
